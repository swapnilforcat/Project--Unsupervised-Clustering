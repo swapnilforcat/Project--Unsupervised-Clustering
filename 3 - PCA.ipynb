{
 "cells": [
  {
   "cell_type": "markdown",
   "metadata": {},
   "source": [
    "# <code style=\"color:Crimson\">3. PRINCIPAL COMPONENT ANALYSIS</code>\n"
   ]
  },
  {
   "cell_type": "markdown",
   "metadata": {},
   "source": [
    "    "
   ]
  },
  {
   "cell_type": "markdown",
   "metadata": {},
   "source": [
    "## Importing the libraries"
   ]
  },
  {
   "cell_type": "code",
   "execution_count": 20,
   "metadata": {},
   "outputs": [],
   "source": [
    "# NumPy for numerical computing\n",
    "import numpy as np\n",
    "\n",
    "# Pandas for DataFrames\n",
    "import pandas as pd\n",
    "\n",
    "# Matplotlib for visualization\n",
    "import matplotlib.pyplot as plt\n",
    "%matplotlib inline\n",
    "\n",
    "# Seaborn for easier visualization\n",
    "import seaborn as sns\n",
    "\n",
    "# StandardScaler from Scikit-Learn\n",
    "from sklearn.preprocessing import StandardScaler\n",
    "\n",
    "# PCA from Scikit-Learn (added later)\n",
    "from sklearn.decomposition import PCA"
   ]
  },
  {
   "cell_type": "markdown",
   "metadata": {},
   "source": [
    "    "
   ]
  },
  {
   "cell_type": "markdown",
   "metadata": {},
   "source": [
    "#### Read the dataset"
   ]
  },
  {
   "cell_type": "code",
   "execution_count": 2,
   "metadata": {},
   "outputs": [],
   "source": [
    "# Read item_data.csv\n",
    "item_data = pd.read_csv('item_data.csv',index_col=0)"
   ]
  },
  {
   "cell_type": "code",
   "execution_count": 3,
   "metadata": {},
   "outputs": [
    {
     "data": {
      "text/html": [
       "<div>\n",
       "<style scoped>\n",
       "    .dataframe tbody tr th:only-of-type {\n",
       "        vertical-align: middle;\n",
       "    }\n",
       "\n",
       "    .dataframe tbody tr th {\n",
       "        vertical-align: top;\n",
       "    }\n",
       "\n",
       "    .dataframe thead th {\n",
       "        text-align: right;\n",
       "    }\n",
       "</style>\n",
       "<table border=\"1\" class=\"dataframe\">\n",
       "  <thead>\n",
       "    <tr style=\"text-align: right;\">\n",
       "      <th></th>\n",
       "      <th>10002</th>\n",
       "      <th>10120</th>\n",
       "      <th>10125</th>\n",
       "      <th>10133</th>\n",
       "      <th>10135</th>\n",
       "      <th>11001</th>\n",
       "      <th>15034</th>\n",
       "      <th>15036</th>\n",
       "      <th>15039</th>\n",
       "      <th>15044A</th>\n",
       "      <th>...</th>\n",
       "      <th>90192</th>\n",
       "      <th>90201A</th>\n",
       "      <th>90201B</th>\n",
       "      <th>90201C</th>\n",
       "      <th>90201D</th>\n",
       "      <th>90202D</th>\n",
       "      <th>90204</th>\n",
       "      <th>C2</th>\n",
       "      <th>M</th>\n",
       "      <th>POST</th>\n",
       "    </tr>\n",
       "    <tr>\n",
       "      <th>CustomerID</th>\n",
       "      <th></th>\n",
       "      <th></th>\n",
       "      <th></th>\n",
       "      <th></th>\n",
       "      <th></th>\n",
       "      <th></th>\n",
       "      <th></th>\n",
       "      <th></th>\n",
       "      <th></th>\n",
       "      <th></th>\n",
       "      <th></th>\n",
       "      <th></th>\n",
       "      <th></th>\n",
       "      <th></th>\n",
       "      <th></th>\n",
       "      <th></th>\n",
       "      <th></th>\n",
       "      <th></th>\n",
       "      <th></th>\n",
       "      <th></th>\n",
       "      <th></th>\n",
       "    </tr>\n",
       "  </thead>\n",
       "  <tbody>\n",
       "    <tr>\n",
       "      <th>12347</th>\n",
       "      <td>0</td>\n",
       "      <td>0</td>\n",
       "      <td>0</td>\n",
       "      <td>0</td>\n",
       "      <td>0</td>\n",
       "      <td>0</td>\n",
       "      <td>0</td>\n",
       "      <td>0</td>\n",
       "      <td>0</td>\n",
       "      <td>0</td>\n",
       "      <td>...</td>\n",
       "      <td>0</td>\n",
       "      <td>0</td>\n",
       "      <td>0</td>\n",
       "      <td>0</td>\n",
       "      <td>0</td>\n",
       "      <td>0</td>\n",
       "      <td>0</td>\n",
       "      <td>0</td>\n",
       "      <td>0</td>\n",
       "      <td>0</td>\n",
       "    </tr>\n",
       "    <tr>\n",
       "      <th>12348</th>\n",
       "      <td>0</td>\n",
       "      <td>0</td>\n",
       "      <td>0</td>\n",
       "      <td>0</td>\n",
       "      <td>0</td>\n",
       "      <td>0</td>\n",
       "      <td>0</td>\n",
       "      <td>0</td>\n",
       "      <td>0</td>\n",
       "      <td>0</td>\n",
       "      <td>...</td>\n",
       "      <td>0</td>\n",
       "      <td>0</td>\n",
       "      <td>0</td>\n",
       "      <td>0</td>\n",
       "      <td>0</td>\n",
       "      <td>0</td>\n",
       "      <td>0</td>\n",
       "      <td>0</td>\n",
       "      <td>0</td>\n",
       "      <td>4</td>\n",
       "    </tr>\n",
       "    <tr>\n",
       "      <th>12349</th>\n",
       "      <td>0</td>\n",
       "      <td>0</td>\n",
       "      <td>0</td>\n",
       "      <td>0</td>\n",
       "      <td>0</td>\n",
       "      <td>0</td>\n",
       "      <td>0</td>\n",
       "      <td>0</td>\n",
       "      <td>0</td>\n",
       "      <td>0</td>\n",
       "      <td>...</td>\n",
       "      <td>0</td>\n",
       "      <td>0</td>\n",
       "      <td>0</td>\n",
       "      <td>0</td>\n",
       "      <td>0</td>\n",
       "      <td>0</td>\n",
       "      <td>0</td>\n",
       "      <td>0</td>\n",
       "      <td>0</td>\n",
       "      <td>1</td>\n",
       "    </tr>\n",
       "    <tr>\n",
       "      <th>12350</th>\n",
       "      <td>0</td>\n",
       "      <td>0</td>\n",
       "      <td>0</td>\n",
       "      <td>0</td>\n",
       "      <td>0</td>\n",
       "      <td>0</td>\n",
       "      <td>0</td>\n",
       "      <td>0</td>\n",
       "      <td>0</td>\n",
       "      <td>0</td>\n",
       "      <td>...</td>\n",
       "      <td>0</td>\n",
       "      <td>0</td>\n",
       "      <td>0</td>\n",
       "      <td>0</td>\n",
       "      <td>0</td>\n",
       "      <td>0</td>\n",
       "      <td>0</td>\n",
       "      <td>0</td>\n",
       "      <td>0</td>\n",
       "      <td>1</td>\n",
       "    </tr>\n",
       "    <tr>\n",
       "      <th>12352</th>\n",
       "      <td>0</td>\n",
       "      <td>0</td>\n",
       "      <td>0</td>\n",
       "      <td>0</td>\n",
       "      <td>0</td>\n",
       "      <td>0</td>\n",
       "      <td>0</td>\n",
       "      <td>0</td>\n",
       "      <td>0</td>\n",
       "      <td>0</td>\n",
       "      <td>...</td>\n",
       "      <td>0</td>\n",
       "      <td>0</td>\n",
       "      <td>0</td>\n",
       "      <td>0</td>\n",
       "      <td>0</td>\n",
       "      <td>0</td>\n",
       "      <td>0</td>\n",
       "      <td>0</td>\n",
       "      <td>3</td>\n",
       "      <td>5</td>\n",
       "    </tr>\n",
       "    <tr>\n",
       "      <th>...</th>\n",
       "      <td>...</td>\n",
       "      <td>...</td>\n",
       "      <td>...</td>\n",
       "      <td>...</td>\n",
       "      <td>...</td>\n",
       "      <td>...</td>\n",
       "      <td>...</td>\n",
       "      <td>...</td>\n",
       "      <td>...</td>\n",
       "      <td>...</td>\n",
       "      <td>...</td>\n",
       "      <td>...</td>\n",
       "      <td>...</td>\n",
       "      <td>...</td>\n",
       "      <td>...</td>\n",
       "      <td>...</td>\n",
       "      <td>...</td>\n",
       "      <td>...</td>\n",
       "      <td>...</td>\n",
       "      <td>...</td>\n",
       "      <td>...</td>\n",
       "    </tr>\n",
       "    <tr>\n",
       "      <th>17444</th>\n",
       "      <td>0</td>\n",
       "      <td>0</td>\n",
       "      <td>0</td>\n",
       "      <td>2</td>\n",
       "      <td>1</td>\n",
       "      <td>0</td>\n",
       "      <td>0</td>\n",
       "      <td>0</td>\n",
       "      <td>0</td>\n",
       "      <td>1</td>\n",
       "      <td>...</td>\n",
       "      <td>0</td>\n",
       "      <td>0</td>\n",
       "      <td>0</td>\n",
       "      <td>0</td>\n",
       "      <td>0</td>\n",
       "      <td>0</td>\n",
       "      <td>0</td>\n",
       "      <td>0</td>\n",
       "      <td>0</td>\n",
       "      <td>1</td>\n",
       "    </tr>\n",
       "    <tr>\n",
       "      <th>17508</th>\n",
       "      <td>0</td>\n",
       "      <td>0</td>\n",
       "      <td>0</td>\n",
       "      <td>0</td>\n",
       "      <td>0</td>\n",
       "      <td>0</td>\n",
       "      <td>1</td>\n",
       "      <td>0</td>\n",
       "      <td>0</td>\n",
       "      <td>0</td>\n",
       "      <td>...</td>\n",
       "      <td>0</td>\n",
       "      <td>0</td>\n",
       "      <td>0</td>\n",
       "      <td>0</td>\n",
       "      <td>0</td>\n",
       "      <td>0</td>\n",
       "      <td>0</td>\n",
       "      <td>0</td>\n",
       "      <td>0</td>\n",
       "      <td>0</td>\n",
       "    </tr>\n",
       "    <tr>\n",
       "      <th>17828</th>\n",
       "      <td>0</td>\n",
       "      <td>0</td>\n",
       "      <td>0</td>\n",
       "      <td>0</td>\n",
       "      <td>0</td>\n",
       "      <td>0</td>\n",
       "      <td>0</td>\n",
       "      <td>0</td>\n",
       "      <td>0</td>\n",
       "      <td>0</td>\n",
       "      <td>...</td>\n",
       "      <td>0</td>\n",
       "      <td>0</td>\n",
       "      <td>0</td>\n",
       "      <td>0</td>\n",
       "      <td>0</td>\n",
       "      <td>0</td>\n",
       "      <td>0</td>\n",
       "      <td>0</td>\n",
       "      <td>0</td>\n",
       "      <td>3</td>\n",
       "    </tr>\n",
       "    <tr>\n",
       "      <th>17829</th>\n",
       "      <td>0</td>\n",
       "      <td>0</td>\n",
       "      <td>0</td>\n",
       "      <td>0</td>\n",
       "      <td>0</td>\n",
       "      <td>0</td>\n",
       "      <td>0</td>\n",
       "      <td>0</td>\n",
       "      <td>0</td>\n",
       "      <td>0</td>\n",
       "      <td>...</td>\n",
       "      <td>0</td>\n",
       "      <td>0</td>\n",
       "      <td>0</td>\n",
       "      <td>0</td>\n",
       "      <td>0</td>\n",
       "      <td>0</td>\n",
       "      <td>0</td>\n",
       "      <td>0</td>\n",
       "      <td>0</td>\n",
       "      <td>0</td>\n",
       "    </tr>\n",
       "    <tr>\n",
       "      <th>17844</th>\n",
       "      <td>0</td>\n",
       "      <td>0</td>\n",
       "      <td>0</td>\n",
       "      <td>0</td>\n",
       "      <td>0</td>\n",
       "      <td>0</td>\n",
       "      <td>0</td>\n",
       "      <td>0</td>\n",
       "      <td>0</td>\n",
       "      <td>0</td>\n",
       "      <td>...</td>\n",
       "      <td>0</td>\n",
       "      <td>0</td>\n",
       "      <td>0</td>\n",
       "      <td>0</td>\n",
       "      <td>0</td>\n",
       "      <td>0</td>\n",
       "      <td>0</td>\n",
       "      <td>0</td>\n",
       "      <td>0</td>\n",
       "      <td>0</td>\n",
       "    </tr>\n",
       "  </tbody>\n",
       "</table>\n",
       "<p>414 rows × 2574 columns</p>\n",
       "</div>"
      ],
      "text/plain": [
       "            10002  10120  10125  10133  10135  11001  15034  15036  15039  \\\n",
       "CustomerID                                                                  \n",
       "12347           0      0      0      0      0      0      0      0      0   \n",
       "12348           0      0      0      0      0      0      0      0      0   \n",
       "12349           0      0      0      0      0      0      0      0      0   \n",
       "12350           0      0      0      0      0      0      0      0      0   \n",
       "12352           0      0      0      0      0      0      0      0      0   \n",
       "...           ...    ...    ...    ...    ...    ...    ...    ...    ...   \n",
       "17444           0      0      0      2      1      0      0      0      0   \n",
       "17508           0      0      0      0      0      0      1      0      0   \n",
       "17828           0      0      0      0      0      0      0      0      0   \n",
       "17829           0      0      0      0      0      0      0      0      0   \n",
       "17844           0      0      0      0      0      0      0      0      0   \n",
       "\n",
       "            15044A  ...  90192  90201A  90201B  90201C  90201D  90202D  90204  \\\n",
       "CustomerID          ...                                                         \n",
       "12347            0  ...      0       0       0       0       0       0      0   \n",
       "12348            0  ...      0       0       0       0       0       0      0   \n",
       "12349            0  ...      0       0       0       0       0       0      0   \n",
       "12350            0  ...      0       0       0       0       0       0      0   \n",
       "12352            0  ...      0       0       0       0       0       0      0   \n",
       "...            ...  ...    ...     ...     ...     ...     ...     ...    ...   \n",
       "17444            1  ...      0       0       0       0       0       0      0   \n",
       "17508            0  ...      0       0       0       0       0       0      0   \n",
       "17828            0  ...      0       0       0       0       0       0      0   \n",
       "17829            0  ...      0       0       0       0       0       0      0   \n",
       "17844            0  ...      0       0       0       0       0       0      0   \n",
       "\n",
       "            C2  M  POST  \n",
       "CustomerID               \n",
       "12347        0  0     0  \n",
       "12348        0  0     4  \n",
       "12349        0  0     1  \n",
       "12350        0  0     1  \n",
       "12352        0  3     5  \n",
       "...         .. ..   ...  \n",
       "17444        0  0     1  \n",
       "17508        0  0     0  \n",
       "17828        0  0     3  \n",
       "17829        0  0     0  \n",
       "17844        0  0     0  \n",
       "\n",
       "[414 rows x 2574 columns]"
      ]
     },
     "execution_count": 3,
     "metadata": {},
     "output_type": "execute_result"
    }
   ],
   "source": [
    "# Display top 5 rows\n",
    "item_data.head()"
   ]
  },
  {
   "cell_type": "markdown",
   "metadata": {},
   "source": [
    "    "
   ]
  },
  {
   "cell_type": "markdown",
   "metadata": {},
   "source": [
    "    "
   ]
  },
  {
   "cell_type": "markdown",
   "metadata": {},
   "source": [
    "\n",
    "#### A. Let's scale <code style=\"color:crimson\">item_data</code>\n",
    "* Name the scaled dataset <code style=\"color:crimson\">item_data_scaled</code>.\n",
    "* Then, display the first 5 rows. "
   ]
  },
  {
   "cell_type": "code",
   "execution_count": null,
   "metadata": {},
   "outputs": [],
   "source": [
    "# Check shape \n",
    "item_data.shape"
   ]
  },
  {
   "cell_type": "code",
   "execution_count": 5,
   "metadata": {},
   "outputs": [],
   "source": [
    "# Initialize instance of StandardScaler\n",
    "scaler = StandardScaler()"
   ]
  },
  {
   "cell_type": "code",
   "execution_count": 6,
   "metadata": {},
   "outputs": [],
   "source": [
    "# Fit and transform item_data\n",
    "item_data_scaled = scaler.fit_transform(item_data)"
   ]
  },
  {
   "cell_type": "code",
   "execution_count": 7,
   "metadata": {},
   "outputs": [
    {
     "data": {
      "text/plain": [
       "array([[-0.13303802, -0.04920678, -0.1119152 , ..., -0.10482848,\n",
       "        -0.15568183, -0.68068072],\n",
       "       [-0.13303802, -0.04920678, -0.1119152 , ..., -0.10482848,\n",
       "        -0.15568183,  0.38776219],\n",
       "       [-0.13303802, -0.04920678, -0.1119152 , ..., -0.10482848,\n",
       "        -0.15568183, -0.41356999],\n",
       "       [-0.13303802, -0.04920678, -0.1119152 , ..., -0.10482848,\n",
       "        -0.15568183, -0.41356999],\n",
       "       [-0.13303802, -0.04920678, -0.1119152 , ..., -0.10482848,\n",
       "         5.53128397,  0.65487292]])"
      ]
     },
     "execution_count": 7,
     "metadata": {},
     "output_type": "execute_result"
    }
   ],
   "source": [
    "# Display first 5 rows of item_data_scaled\n",
    "print( item_data_scaled[:5] )"
   ]
  },
  {
   "cell_type": "code",
   "execution_count": 8,
   "metadata": {},
   "outputs": [
    {
     "data": {
      "text/plain": [
       "(414, 2574)"
      ]
     },
     "execution_count": 8,
     "metadata": {},
     "output_type": "execute_result"
    }
   ],
   "source": [
    "# Check shape again\n",
    "item_data_scaled.shape"
   ]
  },
  {
   "cell_type": "markdown",
   "metadata": {},
   "source": [
    "    "
   ]
  },
  {
   "cell_type": "markdown",
   "metadata": {},
   "source": [
    "    "
   ]
  },
  {
   "cell_type": "markdown",
   "metadata": {},
   "source": [
    "#### B. Next, let's initialize and fit an instance of the PCA transformation.\n",
    "* Keeping all of the components for now (without passing in any argument)."
   ]
  },
  {
   "cell_type": "code",
   "execution_count": 9,
   "metadata": {},
   "outputs": [],
   "source": [
    "# Initialize and fit a PCA transformation\n",
    "PCA = PCA()"
   ]
  },
  {
   "cell_type": "code",
   "execution_count": 10,
   "metadata": {},
   "outputs": [
    {
     "data": {
      "text/plain": [
       "PCA(copy=True, iterated_power='auto', n_components=None, random_state=None,\n",
       "    svd_solver='auto', tol=0.0, whiten=False)"
      ]
     },
     "execution_count": 10,
     "metadata": {},
     "output_type": "execute_result"
    }
   ],
   "source": [
    "PCA.fit(item_data_scaled)"
   ]
  },
  {
   "cell_type": "markdown",
   "metadata": {},
   "source": [
    "    "
   ]
  },
  {
   "cell_type": "markdown",
   "metadata": {},
   "source": [
    "        "
   ]
  },
  {
   "cell_type": "markdown",
   "metadata": {},
   "source": [
    "#### C. Finally, let's generate a new \"principal component features\" from <code style=\"color:crimson\">item_data_scaled</code>.\n",
    "* Name the new array <code style=\"color:crimson\">PC_items</code>.\n",
    "* Then, display the first 5 rows."
   ]
  },
  {
   "cell_type": "code",
   "execution_count": 11,
   "metadata": {},
   "outputs": [],
   "source": [
    "# Generate new features\n",
    "PC_items = PCA.transform(item_data_scaled)"
   ]
  },
  {
   "cell_type": "code",
   "execution_count": 12,
   "metadata": {},
   "outputs": [
    {
     "data": {
      "text/plain": [
       "array([[ 5.87614052e+00,  4.82891689e+00, -4.95545069e-01, ...,\n",
       "        -6.62646278e-04, -4.43629806e-05,  7.79931675e-15],\n",
       "       [-4.21983747e+00,  1.22621722e+00, -1.88191211e+00, ...,\n",
       "        -2.11471782e-04, -2.69154340e-04, -4.33507397e-15],\n",
       "       [-1.26084676e+00,  2.38766371e+00, -7.31483440e-02, ...,\n",
       "         2.57750179e-04, -2.05682324e-04, -5.17554749e-15],\n",
       "       ...,\n",
       "       [-5.21816182e+00,  3.64837894e+00,  2.50643421e+00, ...,\n",
       "         2.97765229e-04, -2.14214577e-06, -4.21884749e-15],\n",
       "       [-4.93612992e+00,  3.02167496e+00, -1.50715580e+00, ...,\n",
       "         3.14242326e-04, -3.98525350e-05,  1.11022302e-16],\n",
       "       [-6.04237234e+00, -2.91369265e-01, -6.74022034e-01, ...,\n",
       "        -2.36796029e-02,  3.91626698e-04,  4.38885039e-16]])"
      ]
     },
     "execution_count": 12,
     "metadata": {},
     "output_type": "execute_result"
    }
   ],
   "source": [
    "# Display first 5 rows\n",
    "PC_items.head()"
   ]
  },
  {
   "cell_type": "markdown",
   "metadata": {},
   "source": [
    "    "
   ]
  },
  {
   "cell_type": "markdown",
   "metadata": {},
   "source": [
    "    "
   ]
  },
  {
   "cell_type": "markdown",
   "metadata": {},
   "source": [
    "## <span style=\"color:RoyalBlue\">Explained Variance</span>\n",
    "\n",
    "Display the **explained variance ratio** for each of the principal components.\n",
    "* First of all, they should sum to 1.0 or very close to it.\n",
    "\n",
    "<br>\n",
    "<br>\n",
    "\n",
    "#### A. Let's confirm the sum of the explained variance ratios for our principal components is 1."
   ]
  },
  {
   "cell_type": "code",
   "execution_count": 13,
   "metadata": {},
   "outputs": [
    {
     "data": {
      "text/plain": [
       "0.9999999999999999"
      ]
     },
     "execution_count": 13,
     "metadata": {},
     "output_type": "execute_result"
    }
   ],
   "source": [
    "# Sum of explained variance ratio\n",
    "PCA.explained_variance_ratio_.sum()"
   ]
  },
  {
   "cell_type": "markdown",
   "metadata": {},
   "source": [
    "PCA finds a **sequence** of principal components that try to explain as much variance as possible.\n",
    "* $PC1$ would explain the most variance.\n",
    "* $PC2$ would explain the 2nd-most variance.\n",
    "* $PC3$ would explain the 3rd-most variance.\n",
    "* And so on...\n",
    "\n",
    "<br>\n",
    "<br>\n",
    "\n",
    "#### B. Therefore, it's very helpful to calculate and plot the <u>cummulative</u> explained variance.\n",
    "* This will tell us the total amount of variance we'd capture if we kept up to the n-th component.\n",
    "* First, take the <code style=\"color:steelblue\">np.cumsum()</code> to calculate the cumulative explained variance. \n",
    "* Then, we'll plot it so we can see how many $PC$ features we'd need to keep in order to capture most of the original variance."
   ]
  },
  {
   "cell_type": "code",
   "execution_count": 14,
   "metadata": {},
   "outputs": [],
   "source": [
    "# Cumulative explained variance\n",
    "variance = np.cumsum(PCA.explained_variance_ratio_)"
   ]
  },
  {
   "cell_type": "code",
   "execution_count": 15,
   "metadata": {},
   "outputs": [
    {
     "data": {
      "text/plain": [
       "[<matplotlib.lines.Line2D at 0x7fbdd7d9b590>]"
      ]
     },
     "execution_count": 15,
     "metadata": {},
     "output_type": "execute_result"
    },
    {
     "data": {
      "image/png": "[encoded data removed]",
      "text/plain": [
       "<Figure size 432x288 with 1 Axes>"
      ]
     },
     "metadata": {
      "needs_background": "light"
     },
     "output_type": "display_data"
    }
   ],
   "source": [
    "# Plot cumulative explained variance\n",
    "plt.plot(range(len(variance)), variance)"
   ]
  },
  {
   "cell_type": "markdown",
   "metadata": {},
   "source": [
    "This chart is saying: To capture about 80% of the variance, we'd need to keep around 125 components.\n",
    "\n",
    "<br>\n",
    "<br>\n",
    "\n",
    "#### C. Let's display the cummulative explained variance of the first 125 components."
   ]
  },
  {
   "cell_type": "code",
   "execution_count": 16,
   "metadata": {},
   "outputs": [
    {
     "data": {
      "text/plain": [
       "0.7977164839441884"
      ]
     },
     "execution_count": 16,
     "metadata": {},
     "output_type": "execute_result"
    }
   ],
   "source": [
    "# How much variance we'd capture with the first 125 components\n",
    "variance[125]"
   ]
  },
  {
   "cell_type": "markdown",
   "metadata": {},
   "source": [
    "    "
   ]
  },
  {
   "cell_type": "markdown",
   "metadata": {},
   "source": [
    "    "
   ]
  },
  {
   "cell_type": "markdown",
   "metadata": {},
   "source": [
    "## <span style=\"color:RoyalBlue\">Dimensionality Reduction With PCA</span>\n",
    "\n",
    "Reducing 2574 features down to 125 (about 95% fewer features) while capturing almost 80% of the original variance.\n",
    "\n",
    "<br>\n",
    "<br>\n",
    "\n",
    "#### A. Initialize and fit another PCA transformation.\n",
    "* This time, only keeping 125 components.\n",
    "* Generate the principal component features from the fitted instance and name the new matrix <code style=\"color:crimson\">PC_items</code>."
   ]
  },
  {
   "cell_type": "code",
   "execution_count": 21,
   "metadata": {},
   "outputs": [],
   "source": [
    "# Initialize PCA transformation, only keeping 125 components\n",
    "PCA = PCA(n_components=125)"
   ]
  },
  {
   "cell_type": "code",
   "execution_count": 23,
   "metadata": {},
   "outputs": [
    {
     "data": {
      "text/plain": [
       "(414, 125)"
      ]
     },
     "execution_count": 23,
     "metadata": {},
     "output_type": "execute_result"
    }
   ],
   "source": [
    "# Fit and transform item_data_scaled\n",
    "PC_items = PCA.fit_transform(item_data_scaled)\n",
    "\n",
    "# Display shape of PC_items\n",
    "PC_items.shape"
   ]
  },
  {
   "cell_type": "markdown",
   "metadata": {},
   "source": [
    "    "
   ]
  },
  {
   "cell_type": "markdown",
   "metadata": {},
   "source": [
    "    "
   ]
  },
  {
   "cell_type": "markdown",
   "metadata": {},
   "source": [
    "#### B. Next, for convenience, we'll put <code style=\"color:crimson\">PC_items</code> into a new dataframe.\n",
    "* Name the columns PC1, PC2, PC3, etc...\n",
    "* Update its index to be the same as the orginal <code style=\"color:crimson\">item_data</code>'s index.\n"
   ]
  },
  {
   "cell_type": "code",
   "execution_count": 24,
   "metadata": {},
   "outputs": [],
   "source": [
    "# Put PC_items into a dataframe\n",
    "items_pca = pd.DataFrame(PC_items)"
   ]
  },
  {
   "cell_type": "code",
   "execution_count": 25,
   "metadata": {},
   "outputs": [],
   "source": [
    "# Name the columns\n",
    "items_pca.columns = ['PC{}'.format(i+1) for i in range (PC_items.shape[1])] "
   ]
  },
  {
   "cell_type": "code",
   "execution_count": 27,
   "metadata": {},
   "outputs": [
    {
     "data": {
      "text/html": [
       "<div>\n",
       "<style scoped>\n",
       "    .dataframe tbody tr th:only-of-type {\n",
       "        vertical-align: middle;\n",
       "    }\n",
       "\n",
       "    .dataframe tbody tr th {\n",
       "        vertical-align: top;\n",
       "    }\n",
       "\n",
       "    .dataframe thead th {\n",
       "        text-align: right;\n",
       "    }\n",
       "</style>\n",
       "<table border=\"1\" class=\"dataframe\">\n",
       "  <thead>\n",
       "    <tr style=\"text-align: right;\">\n",
       "      <th></th>\n",
       "      <th>PC1</th>\n",
       "      <th>PC2</th>\n",
       "      <th>PC3</th>\n",
       "      <th>PC4</th>\n",
       "      <th>PC5</th>\n",
       "      <th>PC6</th>\n",
       "      <th>PC7</th>\n",
       "      <th>PC8</th>\n",
       "      <th>PC9</th>\n",
       "      <th>PC10</th>\n",
       "      <th>...</th>\n",
       "      <th>PC116</th>\n",
       "      <th>PC117</th>\n",
       "      <th>PC118</th>\n",
       "      <th>PC119</th>\n",
       "      <th>PC120</th>\n",
       "      <th>PC121</th>\n",
       "      <th>PC122</th>\n",
       "      <th>PC123</th>\n",
       "      <th>PC124</th>\n",
       "      <th>PC125</th>\n",
       "    </tr>\n",
       "    <tr>\n",
       "      <th>CustomerID</th>\n",
       "      <th></th>\n",
       "      <th></th>\n",
       "      <th></th>\n",
       "      <th></th>\n",
       "      <th></th>\n",
       "      <th></th>\n",
       "      <th></th>\n",
       "      <th></th>\n",
       "      <th></th>\n",
       "      <th></th>\n",
       "      <th></th>\n",
       "      <th></th>\n",
       "      <th></th>\n",
       "      <th></th>\n",
       "      <th></th>\n",
       "      <th></th>\n",
       "      <th></th>\n",
       "      <th></th>\n",
       "      <th></th>\n",
       "      <th></th>\n",
       "      <th></th>\n",
       "    </tr>\n",
       "  </thead>\n",
       "  <tbody>\n",
       "    <tr>\n",
       "      <th>12347</th>\n",
       "      <td>5.876140</td>\n",
       "      <td>4.828935</td>\n",
       "      <td>-0.495530</td>\n",
       "      <td>3.093853</td>\n",
       "      <td>-0.633742</td>\n",
       "      <td>-11.534097</td>\n",
       "      <td>2.162041</td>\n",
       "      <td>7.116835</td>\n",
       "      <td>5.336017</td>\n",
       "      <td>4.424320</td>\n",
       "      <td>...</td>\n",
       "      <td>0.137484</td>\n",
       "      <td>-0.530371</td>\n",
       "      <td>-0.909291</td>\n",
       "      <td>0.093679</td>\n",
       "      <td>0.066484</td>\n",
       "      <td>0.072598</td>\n",
       "      <td>0.115666</td>\n",
       "      <td>-0.059309</td>\n",
       "      <td>0.071256</td>\n",
       "      <td>0.488031</td>\n",
       "    </tr>\n",
       "    <tr>\n",
       "      <th>12348</th>\n",
       "      <td>-4.219839</td>\n",
       "      <td>1.226254</td>\n",
       "      <td>-1.881912</td>\n",
       "      <td>-0.174253</td>\n",
       "      <td>0.817994</td>\n",
       "      <td>1.160496</td>\n",
       "      <td>-0.871735</td>\n",
       "      <td>-0.846627</td>\n",
       "      <td>0.460287</td>\n",
       "      <td>0.854451</td>\n",
       "      <td>...</td>\n",
       "      <td>-0.745856</td>\n",
       "      <td>-2.214455</td>\n",
       "      <td>0.304772</td>\n",
       "      <td>-0.809960</td>\n",
       "      <td>-0.485685</td>\n",
       "      <td>0.809214</td>\n",
       "      <td>-1.222510</td>\n",
       "      <td>-0.366409</td>\n",
       "      <td>-0.238031</td>\n",
       "      <td>-1.335611</td>\n",
       "    </tr>\n",
       "    <tr>\n",
       "      <th>12349</th>\n",
       "      <td>-1.260838</td>\n",
       "      <td>2.387586</td>\n",
       "      <td>-0.073386</td>\n",
       "      <td>-1.118723</td>\n",
       "      <td>-0.034337</td>\n",
       "      <td>-3.714927</td>\n",
       "      <td>-0.343052</td>\n",
       "      <td>-0.148121</td>\n",
       "      <td>-0.790164</td>\n",
       "      <td>-0.379290</td>\n",
       "      <td>...</td>\n",
       "      <td>-3.512454</td>\n",
       "      <td>5.143853</td>\n",
       "      <td>-1.474347</td>\n",
       "      <td>-1.398795</td>\n",
       "      <td>4.270899</td>\n",
       "      <td>2.394883</td>\n",
       "      <td>0.989950</td>\n",
       "      <td>-2.284587</td>\n",
       "      <td>-2.558743</td>\n",
       "      <td>-0.129946</td>\n",
       "    </tr>\n",
       "    <tr>\n",
       "      <th>12350</th>\n",
       "      <td>-4.929323</td>\n",
       "      <td>-0.714907</td>\n",
       "      <td>-1.580879</td>\n",
       "      <td>-0.469915</td>\n",
       "      <td>-0.116540</td>\n",
       "      <td>0.647639</td>\n",
       "      <td>0.112684</td>\n",
       "      <td>-1.336288</td>\n",
       "      <td>1.547293</td>\n",
       "      <td>-1.190387</td>\n",
       "      <td>...</td>\n",
       "      <td>-0.343885</td>\n",
       "      <td>-0.562362</td>\n",
       "      <td>1.263904</td>\n",
       "      <td>1.901519</td>\n",
       "      <td>-0.019063</td>\n",
       "      <td>-1.094445</td>\n",
       "      <td>-0.470259</td>\n",
       "      <td>0.349862</td>\n",
       "      <td>-1.525470</td>\n",
       "      <td>1.855333</td>\n",
       "    </tr>\n",
       "    <tr>\n",
       "      <th>12352</th>\n",
       "      <td>-2.053101</td>\n",
       "      <td>2.111276</td>\n",
       "      <td>0.185305</td>\n",
       "      <td>0.128312</td>\n",
       "      <td>0.088353</td>\n",
       "      <td>-1.944069</td>\n",
       "      <td>2.384094</td>\n",
       "      <td>0.898849</td>\n",
       "      <td>-0.672069</td>\n",
       "      <td>0.078339</td>\n",
       "      <td>...</td>\n",
       "      <td>5.961913</td>\n",
       "      <td>-3.435369</td>\n",
       "      <td>0.197666</td>\n",
       "      <td>-1.231175</td>\n",
       "      <td>-3.320967</td>\n",
       "      <td>-1.141511</td>\n",
       "      <td>-0.781454</td>\n",
       "      <td>-4.313632</td>\n",
       "      <td>1.776122</td>\n",
       "      <td>1.003911</td>\n",
       "    </tr>\n",
       "  </tbody>\n",
       "</table>\n",
       "<p>5 rows × 125 columns</p>\n",
       "</div>"
      ],
      "text/plain": [
       "                 PC1       PC2       PC3       PC4       PC5        PC6  \\\n",
       "CustomerID                                                                \n",
       "12347       5.876140  4.828935 -0.495530  3.093853 -0.633742 -11.534097   \n",
       "12348      -4.219839  1.226254 -1.881912 -0.174253  0.817994   1.160496   \n",
       "12349      -1.260838  2.387586 -0.073386 -1.118723 -0.034337  -3.714927   \n",
       "12350      -4.929323 -0.714907 -1.580879 -0.469915 -0.116540   0.647639   \n",
       "12352      -2.053101  2.111276  0.185305  0.128312  0.088353  -1.944069   \n",
       "\n",
       "                 PC7       PC8       PC9      PC10  ...     PC116     PC117  \\\n",
       "CustomerID                                          ...                       \n",
       "12347       2.162041  7.116835  5.336017  4.424320  ...  0.137484 -0.530371   \n",
       "12348      -0.871735 -0.846627  0.460287  0.854451  ... -0.745856 -2.214455   \n",
       "12349      -0.343052 -0.148121 -0.790164 -0.379290  ... -3.512454  5.143853   \n",
       "12350       0.112684 -1.336288  1.547293 -1.190387  ... -0.343885 -0.562362   \n",
       "12352       2.384094  0.898849 -0.672069  0.078339  ...  5.961913 -3.435369   \n",
       "\n",
       "               PC118     PC119     PC120     PC121     PC122     PC123  \\\n",
       "CustomerID                                                               \n",
       "12347      -0.909291  0.093679  0.066484  0.072598  0.115666 -0.059309   \n",
       "12348       0.304772 -0.809960 -0.485685  0.809214 -1.222510 -0.366409   \n",
       "12349      -1.474347 -1.398795  4.270899  2.394883  0.989950 -2.284587   \n",
       "12350       1.263904  1.901519 -0.019063 -1.094445 -0.470259  0.349862   \n",
       "12352       0.197666 -1.231175 -3.320967 -1.141511 -0.781454 -4.313632   \n",
       "\n",
       "               PC124     PC125  \n",
       "CustomerID                      \n",
       "12347       0.071256  0.488031  \n",
       "12348      -0.238031 -1.335611  \n",
       "12349      -2.558743 -0.129946  \n",
       "12350      -1.525470  1.855333  \n",
       "12352       1.776122  1.003911  \n",
       "\n",
       "[5 rows x 125 columns]"
      ]
     },
     "execution_count": 27,
     "metadata": {},
     "output_type": "execute_result"
    }
   ],
   "source": [
    "# Update its index\n",
    "items_pca.index = df.index\n",
    "\n",
    "# Display first 5 rows\n",
    "items_pca.head()"
   ]
  },
  {
   "cell_type": "markdown",
   "metadata": {},
   "source": [
    "    "
   ]
  },
  {
   "cell_type": "markdown",
   "metadata": {},
   "source": [
    "    "
   ]
  },
  {
   "cell_type": "markdown",
   "metadata": {},
   "source": [
    "Now we have a dataframe of **125 customer-level principal component features**. These were generated from the 125 principal components that explained the most variance for the original features. The index of this PCA item dataframe contains CustomerID's, which will make it possible for us to join this to our <span style=\"color:royalblue\">analytical base table</span>.\n",
    "\n",
    "<br>\n",
    "<br>\n",
    "\n",
    "#### C. Finally, we'll save this item dataframe with PCA features as <code style=\"color:crimson\">'pca_item_data.csv'</code>.\n",
    "* In our Clustering Analysis module, we'll compare the clusters made from using these features against those in <code style=\"color:crimson\">'threshold_item_data.csv'</code>.\n",
    "* We will not set <code style=\"color:steelblue\">index=None</code> because we want to keep the CustomerID's as the index."
   ]
  },
  {
   "cell_type": "code",
   "execution_count": 28,
   "metadata": {},
   "outputs": [],
   "source": [
    "# Save pca_item_data.csv\n",
    "items_pca.to_csv('pca_item_data.csv')"
   ]
  }
 ],
 "metadata": {
  "kernelspec": {
   "display_name": "Python 3",
   "language": "python",
   "name": "python3"
  },
  "language_info": {
   "codemirror_mode": {
    "name": "ipython",
    "version": 3
   },
   "file_extension": ".py",
   "mimetype": "text/x-python",
   "name": "python",
   "nbconvert_exporter": "python",
   "pygments_lexer": "ipython3",
   "version": "3.7.6"
  }
 },
 "nbformat": 4,
 "nbformat_minor": 1
}
