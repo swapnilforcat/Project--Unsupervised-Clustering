{
 "cells": [
  {
   "cell_type": "markdown",
   "metadata": {},
   "source": [
    "# <span style=\"color:crimson\">Data Wrangling</span>\n",
    "\n",
    "### Aggregating and Restructuring the  Dataset\n",
    "\n",
    "For this project, we have transaction-level dataset. In other words, each observation in the raw dataset is for a single transaction - one item, one customer, one purchase.\n",
    "\n",
    "Therefore, to get the customer-level data (since we want to build clusters for customers, not transactions) we need to aggregate transactions by customer and engineer customer-level features."
   ]
  },
  {
   "cell_type": "markdown",
   "metadata": {},
   "source": [
    "## This is an example of Unsupervised Clustering"
   ]
  },
  {
   "cell_type": "markdown",
   "metadata": {},
   "source": [
    "### Project Scope: Unsupervised Customers"
   ]
  },
  {
   "cell_type": "markdown",
   "metadata": {},
   "source": [
    "Our client is an online retailer based in the United Kingdom (UK). They sell all occasion gifts and many of their customers are wholesellers. Most of their customers are bsed in the UK but they also have a small percentage of customers form other countries. They want to create groups of these international customers based on their previous purchase patterns. Their goal is to provide more tailored services and improve the way they market. to these international customers.\n",
    "\n",
    "**Current Solution:** \n",
    "Currently the retailer simply groups their international customers by country. This is inefficient because,\n",
    "1. There are large number of countries which defeats the purpose of creating groups.\n",
    "2. Some countries have very few customers.\n",
    "3. This approach treats the large and small customers the same regardlessof their purchase patterns.\n",
    "\n",
    "\n",
    "**Our role:** \n",
    "The retailer has hired us to help them create 3 clusters of their international customers through a data driven approach. They have provided us with a data set with past purchased data at the transaction level. our task is to build a clustering model using that dataset. Our clustering model should factor in both\n",
    "1. aggregate sales patterns, and\n",
    "2. specific items purchased.\n",
    "\n",
    "**Goal:**\n",
    "Build a clustering model to create groups of international customers based on their previous purchase patterns."
   ]
  },
  {
   "cell_type": "markdown",
   "metadata": {},
   "source": [
    "    "
   ]
  },
  {
   "cell_type": "markdown",
   "metadata": {},
   "source": [
    "### Specifics"
   ]
  },
  {
   "cell_type": "markdown",
   "metadata": {},
   "source": [
    "**Machine Learning task:** Unsupervised Clustering\n",
    "\n",
    "**Target variable:** N/A\n",
    "\n",
    "**Input variables:** Refer to data dictionary file - \"Data Dictionary - Unsupervised Customers\"\n",
    "\n",
    "**Deliverable:** Clusters for customers\n",
    "\n",
    "**Success Criteria:** N/A"
   ]
  },
  {
   "cell_type": "markdown",
   "metadata": {},
   "source": [
    "    "
   ]
  },
  {
   "cell_type": "markdown",
   "metadata": {},
   "source": [
    "### This project will be carried out in 4 stages"
   ]
  },
  {
   "cell_type": "markdown",
   "metadata": {},
   "source": [
    "**1. Data Wrangling:** Aggregating and Restructuring the dataset\n",
    "\n",
    "\n",
    "**2. Dimensionality Reduction:** Breaking down the dimensions\n",
    "\n",
    "\n",
    "**3. Principal Component Analysis (PCA):** Analyzing correlated features and explained variance\n",
    "\n",
    "\n",
    "**4. Cluster Analysis:** Creating and analyzing clusters"
   ]
  },
  {
   "cell_type": "markdown",
   "metadata": {},
   "source": [
    "## Importing the libraries"
   ]
  },
  {
   "cell_type": "code",
   "execution_count": 3,
   "metadata": {},
   "outputs": [],
   "source": [
    "# NumPy for numerical computing\n",
    "import numpy as np\n",
    "\n",
    "# Pandas for DataFrames\n",
    "import pandas as pd\n",
    "\n",
    "# Matplotlib for visualization\n",
    "from matplotlib import pyplot as plt\n",
    "\n",
    "# display plots in the notebook\n",
    "%matplotlib inline \n",
    "\n",
    "# Seaborn for easier visualization\n",
    "import seaborn as sns\n",
    "sns.set_style('darkgrid')"
   ]
  },
  {
   "cell_type": "markdown",
   "metadata": {},
   "source": [
    "    "
   ]
  },
  {
   "cell_type": "markdown",
   "metadata": {},
   "source": [
    "#### Read in the dataset. The file name is 'int_online_tx.cav'"
   ]
  },
  {
   "cell_type": "code",
   "execution_count": 5,
   "metadata": {},
   "outputs": [],
   "source": [
    "df = pd.read_csv('int_online_tx.csv')"
   ]
  },
  {
   "cell_type": "code",
   "execution_count": 6,
   "metadata": {},
   "outputs": [
    {
     "data": {
      "text/html": [
       "<div>\n",
       "<style scoped>\n",
       "    .dataframe tbody tr th:only-of-type {\n",
       "        vertical-align: middle;\n",
       "    }\n",
       "\n",
       "    .dataframe tbody tr th {\n",
       "        vertical-align: top;\n",
       "    }\n",
       "\n",
       "    .dataframe thead th {\n",
       "        text-align: right;\n",
       "    }\n",
       "</style>\n",
       "<table border=\"1\" class=\"dataframe\">\n",
       "  <thead>\n",
       "    <tr style=\"text-align: right;\">\n",
       "      <th></th>\n",
       "      <th>InvoiceNo</th>\n",
       "      <th>StockCode</th>\n",
       "      <th>Description</th>\n",
       "      <th>Quantity</th>\n",
       "      <th>InvoiceDate</th>\n",
       "      <th>UnitPrice</th>\n",
       "      <th>CustomerID</th>\n",
       "      <th>Country</th>\n",
       "    </tr>\n",
       "  </thead>\n",
       "  <tbody>\n",
       "    <tr>\n",
       "      <th>0</th>\n",
       "      <td>536370</td>\n",
       "      <td>22728</td>\n",
       "      <td>ALARM CLOCK BAKELIKE PINK</td>\n",
       "      <td>24</td>\n",
       "      <td>12/1/10 8:45</td>\n",
       "      <td>3.75</td>\n",
       "      <td>12583.0</td>\n",
       "      <td>France</td>\n",
       "    </tr>\n",
       "    <tr>\n",
       "      <th>1</th>\n",
       "      <td>536370</td>\n",
       "      <td>22727</td>\n",
       "      <td>ALARM CLOCK BAKELIKE RED</td>\n",
       "      <td>24</td>\n",
       "      <td>12/1/10 8:45</td>\n",
       "      <td>3.75</td>\n",
       "      <td>12583.0</td>\n",
       "      <td>France</td>\n",
       "    </tr>\n",
       "    <tr>\n",
       "      <th>2</th>\n",
       "      <td>536370</td>\n",
       "      <td>22726</td>\n",
       "      <td>ALARM CLOCK BAKELIKE GREEN</td>\n",
       "      <td>12</td>\n",
       "      <td>12/1/10 8:45</td>\n",
       "      <td>3.75</td>\n",
       "      <td>12583.0</td>\n",
       "      <td>France</td>\n",
       "    </tr>\n",
       "    <tr>\n",
       "      <th>3</th>\n",
       "      <td>536370</td>\n",
       "      <td>21724</td>\n",
       "      <td>PANDA AND BUNNIES STICKER SHEET</td>\n",
       "      <td>12</td>\n",
       "      <td>12/1/10 8:45</td>\n",
       "      <td>0.85</td>\n",
       "      <td>12583.0</td>\n",
       "      <td>France</td>\n",
       "    </tr>\n",
       "    <tr>\n",
       "      <th>4</th>\n",
       "      <td>536370</td>\n",
       "      <td>21883</td>\n",
       "      <td>STARS GIFT TAPE</td>\n",
       "      <td>24</td>\n",
       "      <td>12/1/10 8:45</td>\n",
       "      <td>0.65</td>\n",
       "      <td>12583.0</td>\n",
       "      <td>France</td>\n",
       "    </tr>\n",
       "  </tbody>\n",
       "</table>\n",
       "</div>"
      ],
      "text/plain": [
       "   InvoiceNo StockCode                      Description  Quantity  \\\n",
       "0     536370     22728        ALARM CLOCK BAKELIKE PINK        24   \n",
       "1     536370     22727        ALARM CLOCK BAKELIKE RED         24   \n",
       "2     536370     22726       ALARM CLOCK BAKELIKE GREEN        12   \n",
       "3     536370     21724  PANDA AND BUNNIES STICKER SHEET        12   \n",
       "4     536370     21883                 STARS GIFT TAPE         24   \n",
       "\n",
       "    InvoiceDate  UnitPrice  CustomerID Country  \n",
       "0  12/1/10 8:45       3.75     12583.0  France  \n",
       "1  12/1/10 8:45       3.75     12583.0  France  \n",
       "2  12/1/10 8:45       3.75     12583.0  France  \n",
       "3  12/1/10 8:45       0.85     12583.0  France  \n",
       "4  12/1/10 8:45       0.65     12583.0  France  "
      ]
     },
     "execution_count": 6,
     "metadata": {},
     "output_type": "execute_result"
    }
   ],
   "source": [
    "df.head()"
   ]
  },
  {
   "cell_type": "code",
   "execution_count": 21,
   "metadata": {},
   "outputs": [
    {
     "data": {
      "text/plain": [
       "(35116, 8)"
      ]
     },
     "execution_count": 21,
     "metadata": {},
     "output_type": "execute_result"
    }
   ],
   "source": [
    "#chekc the size of the data\n",
    "df.shape"
   ]
  },
  {
   "cell_type": "markdown",
   "metadata": {},
   "source": [
    "    "
   ]
  },
  {
   "cell_type": "markdown",
   "metadata": {},
   "source": [
    "    "
   ]
  },
  {
   "cell_type": "markdown",
   "metadata": {},
   "source": [
    "## I. Transaction-Level Data Cleaning"
   ]
  },
  {
   "cell_type": "code",
   "execution_count": 10,
   "metadata": {},
   "outputs": [
    {
     "data": {
      "text/plain": [
       "InvoiceNo         0\n",
       "StockCode         0\n",
       "Description       0\n",
       "Quantity          0\n",
       "InvoiceDate       0\n",
       "UnitPrice         0\n",
       "CustomerID     1418\n",
       "Country           0\n",
       "dtype: int64"
      ]
     },
     "execution_count": 10,
     "metadata": {},
     "output_type": "execute_result"
    }
   ],
   "source": [
    "#check for missing values in each features\n",
    "df.isnull().sum()"
   ]
  },
  {
   "cell_type": "markdown",
   "metadata": {},
   "source": [
    "    "
   ]
  },
  {
   "cell_type": "markdown",
   "metadata": {},
   "source": [
    "**Looks like 'CustomerID' has missing observations...** Now the question is should we label them as missing (as for categorical features) or should we flag and fill them (as for numeric features)?\n",
    "\n",
    "In this case, we should do neither. Instead, we simply need to drop transactions with missing CustomerID.\n",
    "we are trying to cluster customers in order to provide more tailored service. That means transactions with missing 'CustomerID' are actually pointless.\n",
    "\n",
    "Even if we keep those missing CustomerID's and just label them as 'Missing'. When we roll up to the customer level, we'd essentially attribute all of those transactions to a single \"Missing\" customer."
   ]
  },
  {
   "cell_type": "code",
   "execution_count": 11,
   "metadata": {},
   "outputs": [],
   "source": [
    "#drop observations with null values. Only keep transactions with CustomerID's\n",
    "clean_df = df[df.CustomerID.notnull()]"
   ]
  },
  {
   "cell_type": "code",
   "execution_count": 13,
   "metadata": {},
   "outputs": [
    {
     "data": {
      "text/plain": [
       "(33698, 8)"
      ]
     },
     "execution_count": 13,
     "metadata": {},
     "output_type": "execute_result"
    }
   ],
   "source": [
    "clean_df.shape"
   ]
  },
  {
   "cell_type": "code",
   "execution_count": 14,
   "metadata": {},
   "outputs": [
    {
     "data": {
      "text/plain": [
       "InvoiceNo      0\n",
       "StockCode      0\n",
       "Description    0\n",
       "Quantity       0\n",
       "InvoiceDate    0\n",
       "UnitPrice      0\n",
       "CustomerID     0\n",
       "Country        0\n",
       "dtype: int64"
      ]
     },
     "execution_count": 14,
     "metadata": {},
     "output_type": "execute_result"
    }
   ],
   "source": [
    "clean_df.isnull().sum()"
   ]
  },
  {
   "cell_type": "markdown",
   "metadata": {},
   "source": [
    "    "
   ]
  },
  {
   "cell_type": "code",
   "execution_count": 15,
   "metadata": {},
   "outputs": [
    {
     "data": {
      "text/plain": [
       "InvoiceNo        int64\n",
       "StockCode       object\n",
       "Description     object\n",
       "Quantity         int64\n",
       "InvoiceDate     object\n",
       "UnitPrice      float64\n",
       "CustomerID     float64\n",
       "Country         object\n",
       "dtype: object"
      ]
     },
     "execution_count": 15,
     "metadata": {},
     "output_type": "execute_result"
    }
   ],
   "source": [
    "#check data types of all the features\n",
    "clean_df.dtypes"
   ]
  },
  {
   "cell_type": "code",
   "execution_count": 16,
   "metadata": {},
   "outputs": [
    {
     "name": "stderr",
     "output_type": "stream",
     "text": [
      "/Users/swapnil/opt/anaconda3/lib/python3.7/site-packages/ipykernel_launcher.py:2: SettingWithCopyWarning: \n",
      "A value is trying to be set on a copy of a slice from a DataFrame.\n",
      "Try using .loc[row_indexer,col_indexer] = value instead\n",
      "\n",
      "See the caveats in the documentation: https://pandas.pydata.org/pandas-docs/stable/user_guide/indexing.html#returning-a-view-versus-a-copy\n",
      "  \n"
     ]
    }
   ],
   "source": [
    "#As a good practive, let's convert customerID to integer type\n",
    "clean_df['CustomerID'] = clean_df.CustomerID.astype(int)"
   ]
  },
  {
   "cell_type": "code",
   "execution_count": 17,
   "metadata": {},
   "outputs": [
    {
     "data": {
      "text/plain": [
       "InvoiceNo        int64\n",
       "StockCode       object\n",
       "Description     object\n",
       "Quantity         int64\n",
       "InvoiceDate     object\n",
       "UnitPrice      float64\n",
       "CustomerID       int64\n",
       "Country         object\n",
       "dtype: object"
      ]
     },
     "execution_count": 17,
     "metadata": {},
     "output_type": "execute_result"
    }
   ],
   "source": [
    "#verify\n",
    "clean_df.dtypes"
   ]
  },
  {
   "cell_type": "markdown",
   "metadata": {},
   "source": [
    "    "
   ]
  },
  {
   "cell_type": "markdown",
   "metadata": {},
   "source": [
    "#### Finally, there's one feature we can create at the transaction level: 'Sales'\n",
    "\n",
    "If we look at the current transaction-level dataset, there aren't any features that tell us how much money the customer spent on each transaction. Using <code style=\"color:steelblue\">'Quantity'</code> and <code style=\"color:steelblue\">'UnitPrice'</code>, we can derive a feature called <code style=\"color:steelblue\">'Sales'</code>\n",
    "\n",
    "\n",
    "**Let's create a <code style=\"color:steelblue\">'Sales'</code> feature.**"
   ]
  },
  {
   "cell_type": "code",
   "execution_count": 1,
   "metadata": {},
   "outputs": [
    {
     "ename": "NameError",
     "evalue": "name 'clean_df' is not defined",
     "output_type": "error",
     "traceback": [
      "\u001b[0;31m---------------------------------------------------------------------------\u001b[0m",
      "\u001b[0;31mNameError\u001b[0m                                 Traceback (most recent call last)",
      "\u001b[0;32m<ipython-input-1-cc5367debee4>\u001b[0m in \u001b[0;36m<module>\u001b[0;34m\u001b[0m\n\u001b[1;32m      1\u001b[0m \u001b[0;31m# Create 'Sales' feature\u001b[0m\u001b[0;34m\u001b[0m\u001b[0;34m\u001b[0m\u001b[0;34m\u001b[0m\u001b[0m\n\u001b[0;32m----> 2\u001b[0;31m \u001b[0mclean_df\u001b[0m\u001b[0;34m[\u001b[0m\u001b[0;34m'Sales'\u001b[0m\u001b[0;34m]\u001b[0m \u001b[0;34m=\u001b[0m \u001b[0;34m(\u001b[0m\u001b[0mclean_df\u001b[0m\u001b[0;34m.\u001b[0m\u001b[0mQuantity\u001b[0m\u001b[0;34m*\u001b[0m\u001b[0mclean_df\u001b[0m\u001b[0;34m.\u001b[0m\u001b[0mUnitPrice\u001b[0m\u001b[0;34m)\u001b[0m\u001b[0;34m\u001b[0m\u001b[0;34m\u001b[0m\u001b[0m\n\u001b[0m",
      "\u001b[0;31mNameError\u001b[0m: name 'clean_df' is not defined"
     ]
    }
   ],
   "source": [
    "# Create 'Sales' feature\n",
    "clean_df['Sales'] = (clean_df.Quantity*clean_df.UnitPrice)"
   ]
  },
  {
   "cell_type": "code",
   "execution_count": 19,
   "metadata": {},
   "outputs": [
    {
     "data": {
      "text/html": [
       "<div>\n",
       "<style scoped>\n",
       "    .dataframe tbody tr th:only-of-type {\n",
       "        vertical-align: middle;\n",
       "    }\n",
       "\n",
       "    .dataframe tbody tr th {\n",
       "        vertical-align: top;\n",
       "    }\n",
       "\n",
       "    .dataframe thead th {\n",
       "        text-align: right;\n",
       "    }\n",
       "</style>\n",
       "<table border=\"1\" class=\"dataframe\">\n",
       "  <thead>\n",
       "    <tr style=\"text-align: right;\">\n",
       "      <th></th>\n",
       "      <th>InvoiceNo</th>\n",
       "      <th>StockCode</th>\n",
       "      <th>Description</th>\n",
       "      <th>Quantity</th>\n",
       "      <th>InvoiceDate</th>\n",
       "      <th>UnitPrice</th>\n",
       "      <th>CustomerID</th>\n",
       "      <th>Country</th>\n",
       "      <th>Sales</th>\n",
       "    </tr>\n",
       "  </thead>\n",
       "  <tbody>\n",
       "    <tr>\n",
       "      <th>0</th>\n",
       "      <td>536370</td>\n",
       "      <td>22728</td>\n",
       "      <td>ALARM CLOCK BAKELIKE PINK</td>\n",
       "      <td>24</td>\n",
       "      <td>12/1/10 8:45</td>\n",
       "      <td>3.75</td>\n",
       "      <td>12583</td>\n",
       "      <td>France</td>\n",
       "      <td>90.0</td>\n",
       "    </tr>\n",
       "    <tr>\n",
       "      <th>1</th>\n",
       "      <td>536370</td>\n",
       "      <td>22727</td>\n",
       "      <td>ALARM CLOCK BAKELIKE RED</td>\n",
       "      <td>24</td>\n",
       "      <td>12/1/10 8:45</td>\n",
       "      <td>3.75</td>\n",
       "      <td>12583</td>\n",
       "      <td>France</td>\n",
       "      <td>90.0</td>\n",
       "    </tr>\n",
       "    <tr>\n",
       "      <th>2</th>\n",
       "      <td>536370</td>\n",
       "      <td>22726</td>\n",
       "      <td>ALARM CLOCK BAKELIKE GREEN</td>\n",
       "      <td>12</td>\n",
       "      <td>12/1/10 8:45</td>\n",
       "      <td>3.75</td>\n",
       "      <td>12583</td>\n",
       "      <td>France</td>\n",
       "      <td>45.0</td>\n",
       "    </tr>\n",
       "    <tr>\n",
       "      <th>3</th>\n",
       "      <td>536370</td>\n",
       "      <td>21724</td>\n",
       "      <td>PANDA AND BUNNIES STICKER SHEET</td>\n",
       "      <td>12</td>\n",
       "      <td>12/1/10 8:45</td>\n",
       "      <td>0.85</td>\n",
       "      <td>12583</td>\n",
       "      <td>France</td>\n",
       "      <td>10.2</td>\n",
       "    </tr>\n",
       "    <tr>\n",
       "      <th>4</th>\n",
       "      <td>536370</td>\n",
       "      <td>21883</td>\n",
       "      <td>STARS GIFT TAPE</td>\n",
       "      <td>24</td>\n",
       "      <td>12/1/10 8:45</td>\n",
       "      <td>0.65</td>\n",
       "      <td>12583</td>\n",
       "      <td>France</td>\n",
       "      <td>15.6</td>\n",
       "    </tr>\n",
       "  </tbody>\n",
       "</table>\n",
       "</div>"
      ],
      "text/plain": [
       "   InvoiceNo StockCode                      Description  Quantity  \\\n",
       "0     536370     22728        ALARM CLOCK BAKELIKE PINK        24   \n",
       "1     536370     22727        ALARM CLOCK BAKELIKE RED         24   \n",
       "2     536370     22726       ALARM CLOCK BAKELIKE GREEN        12   \n",
       "3     536370     21724  PANDA AND BUNNIES STICKER SHEET        12   \n",
       "4     536370     21883                 STARS GIFT TAPE         24   \n",
       "\n",
       "    InvoiceDate  UnitPrice  CustomerID Country  Sales  \n",
       "0  12/1/10 8:45       3.75       12583  France   90.0  \n",
       "1  12/1/10 8:45       3.75       12583  France   90.0  \n",
       "2  12/1/10 8:45       3.75       12583  France   45.0  \n",
       "3  12/1/10 8:45       0.85       12583  France   10.2  \n",
       "4  12/1/10 8:45       0.65       12583  France   15.6  "
      ]
     },
     "execution_count": 19,
     "metadata": {},
     "output_type": "execute_result"
    }
   ],
   "source": [
    "# Display first 5 Sales values in the transaction dataset\n",
    "clean_df.head()"
   ]
  },
  {
   "cell_type": "markdown",
   "metadata": {},
   "source": [
    "    "
   ]
  },
  {
   "cell_type": "markdown",
   "metadata": {},
   "source": [
    "    "
   ]
  },
  {
   "cell_type": "markdown",
   "metadata": {},
   "source": [
    "    "
   ]
  },
  {
   "cell_type": "markdown",
   "metadata": {},
   "source": [
    "## II. Customer-Level Feature Engineering"
   ]
  },
  {
   "cell_type": "markdown",
   "metadata": {},
   "source": [
    "Now that we have a cleaned transaction-level dataset, it's time to roll it up to the customer level so that we have 1 customer per row.\n",
    "\n",
    "\n",
    "We want 1 customer per row, and we want the features to represent information such as:\n",
    "* Number of unique purchases by the customer<br>\n",
    "* Average cart value for the customer<br>\n",
    "* Total sales for the customer<br>\n",
    "\n",
    "\n",
    "\n",
    "To do so, we'll use:<br>\n",
    "1. <code style=\"color:steelblue\">.groupby()</code> to roll up by customer.<br>\n",
    "2. <code style=\"color:steelblue\">.agg()</code> to engineer aggregated features."
   ]
  },
  {
   "cell_type": "markdown",
   "metadata": {},
   "source": [
    "#### First, we'll aggegrate invoice data by customer and engineer 1 feature:\n",
    "\n",
    "<code style = \"color:steelblue\">'total_transactions'</code> - the total number of unique transactions for each customer."
   ]
  },
  {
   "cell_type": "code",
   "execution_count": 22,
   "metadata": {},
   "outputs": [],
   "source": [
    "# Aggegrate invoice data\n",
    "a = clean_df.groupby('CustomerID').InvoiceNo.agg(['nunique'])"
   ]
  },
  {
   "cell_type": "markdown",
   "metadata": {},
   "source": [
    "    "
   ]
  },
  {
   "cell_type": "markdown",
   "metadata": {},
   "source": [
    "<code style=\"color:crimson\">'nunique'</code> counts the number of unique values within each group."
   ]
  },
  {
   "cell_type": "markdown",
   "metadata": {},
   "source": [
    "    "
   ]
  },
  {
   "cell_type": "code",
   "execution_count": 23,
   "metadata": {},
   "outputs": [],
   "source": [
    "# Rename the aggregate column\n",
    "a.columns = ['total_transactions']"
   ]
  },
  {
   "cell_type": "code",
   "execution_count": 24,
   "metadata": {},
   "outputs": [
    {
     "data": {
      "text/html": [
       "<div>\n",
       "<style scoped>\n",
       "    .dataframe tbody tr th:only-of-type {\n",
       "        vertical-align: middle;\n",
       "    }\n",
       "\n",
       "    .dataframe tbody tr th {\n",
       "        vertical-align: top;\n",
       "    }\n",
       "\n",
       "    .dataframe thead th {\n",
       "        text-align: right;\n",
       "    }\n",
       "</style>\n",
       "<table border=\"1\" class=\"dataframe\">\n",
       "  <thead>\n",
       "    <tr style=\"text-align: right;\">\n",
       "      <th></th>\n",
       "      <th>total_transactions</th>\n",
       "    </tr>\n",
       "    <tr>\n",
       "      <th>CustomerID</th>\n",
       "      <th></th>\n",
       "    </tr>\n",
       "  </thead>\n",
       "  <tbody>\n",
       "    <tr>\n",
       "      <th>12347</th>\n",
       "      <td>7</td>\n",
       "    </tr>\n",
       "    <tr>\n",
       "      <th>12348</th>\n",
       "      <td>4</td>\n",
       "    </tr>\n",
       "    <tr>\n",
       "      <th>12349</th>\n",
       "      <td>1</td>\n",
       "    </tr>\n",
       "    <tr>\n",
       "      <th>12350</th>\n",
       "      <td>1</td>\n",
       "    </tr>\n",
       "    <tr>\n",
       "      <th>12352</th>\n",
       "      <td>8</td>\n",
       "    </tr>\n",
       "    <tr>\n",
       "      <th>...</th>\n",
       "      <td>...</td>\n",
       "    </tr>\n",
       "    <tr>\n",
       "      <th>17444</th>\n",
       "      <td>3</td>\n",
       "    </tr>\n",
       "    <tr>\n",
       "      <th>17508</th>\n",
       "      <td>1</td>\n",
       "    </tr>\n",
       "    <tr>\n",
       "      <th>17828</th>\n",
       "      <td>4</td>\n",
       "    </tr>\n",
       "    <tr>\n",
       "      <th>17829</th>\n",
       "      <td>1</td>\n",
       "    </tr>\n",
       "    <tr>\n",
       "      <th>17844</th>\n",
       "      <td>1</td>\n",
       "    </tr>\n",
       "  </tbody>\n",
       "</table>\n",
       "<p>414 rows × 1 columns</p>\n",
       "</div>"
      ],
      "text/plain": [
       "            total_transactions\n",
       "CustomerID                    \n",
       "12347                        7\n",
       "12348                        4\n",
       "12349                        1\n",
       "12350                        1\n",
       "12352                        8\n",
       "...                        ...\n",
       "17444                        3\n",
       "17508                        1\n",
       "17828                        4\n",
       "17829                        1\n",
       "17844                        1\n",
       "\n",
       "[414 rows x 1 columns]"
      ]
     },
     "execution_count": 24,
     "metadata": {},
     "output_type": "execute_result"
    }
   ],
   "source": [
    "# Display total unique transactions first 5 customers\n",
    "a.head()"
   ]
  },
  {
   "cell_type": "markdown",
   "metadata": {},
   "source": [
    "    "
   ]
  },
  {
   "cell_type": "markdown",
   "metadata": {},
   "source": [
    "    "
   ]
  },
  {
   "cell_type": "markdown",
   "metadata": {},
   "source": [
    "#### Next, we'll aggregate product data by customer, and engineer 2 new features:\n",
    "\n",
    "<code style=\"color:steelblue\">'total_products'</code> - the total number of products purchased by each customer<br>\n",
    "<code style=\"color:steelblue\">'total_unique_products'</code> - the number of unique products purchased by each customer.\n"
   ]
  },
  {
   "cell_type": "code",
   "execution_count": 29,
   "metadata": {},
   "outputs": [],
   "source": [
    "b = clean_df.groupby('CustomerID').StockCode.agg(['count','nunique'])"
   ]
  },
  {
   "cell_type": "code",
   "execution_count": 30,
   "metadata": {},
   "outputs": [],
   "source": [
    "b.columns = ['total_products','total_unique_products']"
   ]
  },
  {
   "cell_type": "code",
   "execution_count": 31,
   "metadata": {},
   "outputs": [
    {
     "data": {
      "text/html": [
       "<div>\n",
       "<style scoped>\n",
       "    .dataframe tbody tr th:only-of-type {\n",
       "        vertical-align: middle;\n",
       "    }\n",
       "\n",
       "    .dataframe tbody tr th {\n",
       "        vertical-align: top;\n",
       "    }\n",
       "\n",
       "    .dataframe thead th {\n",
       "        text-align: right;\n",
       "    }\n",
       "</style>\n",
       "<table border=\"1\" class=\"dataframe\">\n",
       "  <thead>\n",
       "    <tr style=\"text-align: right;\">\n",
       "      <th></th>\n",
       "      <th>total_products</th>\n",
       "      <th>total_unique_products</th>\n",
       "    </tr>\n",
       "    <tr>\n",
       "      <th>CustomerID</th>\n",
       "      <th></th>\n",
       "      <th></th>\n",
       "    </tr>\n",
       "  </thead>\n",
       "  <tbody>\n",
       "    <tr>\n",
       "      <th>12347</th>\n",
       "      <td>182</td>\n",
       "      <td>103</td>\n",
       "    </tr>\n",
       "    <tr>\n",
       "      <th>12348</th>\n",
       "      <td>31</td>\n",
       "      <td>22</td>\n",
       "    </tr>\n",
       "    <tr>\n",
       "      <th>12349</th>\n",
       "      <td>73</td>\n",
       "      <td>73</td>\n",
       "    </tr>\n",
       "    <tr>\n",
       "      <th>12350</th>\n",
       "      <td>17</td>\n",
       "      <td>17</td>\n",
       "    </tr>\n",
       "    <tr>\n",
       "      <th>12352</th>\n",
       "      <td>85</td>\n",
       "      <td>59</td>\n",
       "    </tr>\n",
       "    <tr>\n",
       "      <th>...</th>\n",
       "      <td>...</td>\n",
       "      <td>...</td>\n",
       "    </tr>\n",
       "    <tr>\n",
       "      <th>17444</th>\n",
       "      <td>135</td>\n",
       "      <td>132</td>\n",
       "    </tr>\n",
       "    <tr>\n",
       "      <th>17508</th>\n",
       "      <td>22</td>\n",
       "      <td>22</td>\n",
       "    </tr>\n",
       "    <tr>\n",
       "      <th>17828</th>\n",
       "      <td>67</td>\n",
       "      <td>54</td>\n",
       "    </tr>\n",
       "    <tr>\n",
       "      <th>17829</th>\n",
       "      <td>30</td>\n",
       "      <td>30</td>\n",
       "    </tr>\n",
       "    <tr>\n",
       "      <th>17844</th>\n",
       "      <td>5</td>\n",
       "      <td>5</td>\n",
       "    </tr>\n",
       "  </tbody>\n",
       "</table>\n",
       "<p>414 rows × 2 columns</p>\n",
       "</div>"
      ],
      "text/plain": [
       "            total_products  total_unique_products\n",
       "CustomerID                                       \n",
       "12347                  182                    103\n",
       "12348                   31                     22\n",
       "12349                   73                     73\n",
       "12350                   17                     17\n",
       "12352                   85                     59\n",
       "...                    ...                    ...\n",
       "17444                  135                    132\n",
       "17508                   22                     22\n",
       "17828                   67                     54\n",
       "17829                   30                     30\n",
       "17844                    5                      5\n",
       "\n",
       "[414 rows x 2 columns]"
      ]
     },
     "execution_count": 31,
     "metadata": {},
     "output_type": "execute_result"
    }
   ],
   "source": [
    "b"
   ]
  },
  {
   "cell_type": "markdown",
   "metadata": {},
   "source": [
    "    "
   ]
  },
  {
   "cell_type": "markdown",
   "metadata": {},
   "source": [
    "    "
   ]
  },
  {
   "cell_type": "markdown",
   "metadata": {},
   "source": [
    "**C.** Next, we'll aggregate sales data by customer and engineer 2 new features:\n",
    "\n",
    "<code style=\"color:steelblue\">'total_sales'</code> - the total sales for each customer.<br>\n",
    "<code style=\"color:steelblue\">'avg_product_value'</code> - the average value of the products purchased by the customer\n"
   ]
  },
  {
   "cell_type": "code",
   "execution_count": 32,
   "metadata": {},
   "outputs": [],
   "source": [
    "c = clean_df.groupby('CustomerID').Sales.agg(['sum','mean'])"
   ]
  },
  {
   "cell_type": "code",
   "execution_count": 35,
   "metadata": {},
   "outputs": [],
   "source": [
    "c.columns = ['total_sales', 'avg_product_value']"
   ]
  },
  {
   "cell_type": "code",
   "execution_count": 38,
   "metadata": {},
   "outputs": [
    {
     "data": {
      "text/html": [
       "<div>\n",
       "<style scoped>\n",
       "    .dataframe tbody tr th:only-of-type {\n",
       "        vertical-align: middle;\n",
       "    }\n",
       "\n",
       "    .dataframe tbody tr th {\n",
       "        vertical-align: top;\n",
       "    }\n",
       "\n",
       "    .dataframe thead th {\n",
       "        text-align: right;\n",
       "    }\n",
       "</style>\n",
       "<table border=\"1\" class=\"dataframe\">\n",
       "  <thead>\n",
       "    <tr style=\"text-align: right;\">\n",
       "      <th></th>\n",
       "      <th>total_sales</th>\n",
       "      <th>avg_product_value</th>\n",
       "    </tr>\n",
       "    <tr>\n",
       "      <th>CustomerID</th>\n",
       "      <th></th>\n",
       "      <th></th>\n",
       "    </tr>\n",
       "  </thead>\n",
       "  <tbody>\n",
       "    <tr>\n",
       "      <th>12347</th>\n",
       "      <td>4310.00</td>\n",
       "      <td>23.681319</td>\n",
       "    </tr>\n",
       "    <tr>\n",
       "      <th>12348</th>\n",
       "      <td>1797.24</td>\n",
       "      <td>57.975484</td>\n",
       "    </tr>\n",
       "    <tr>\n",
       "      <th>12349</th>\n",
       "      <td>1757.55</td>\n",
       "      <td>24.076027</td>\n",
       "    </tr>\n",
       "    <tr>\n",
       "      <th>12350</th>\n",
       "      <td>334.40</td>\n",
       "      <td>19.670588</td>\n",
       "    </tr>\n",
       "    <tr>\n",
       "      <th>12352</th>\n",
       "      <td>2506.04</td>\n",
       "      <td>29.482824</td>\n",
       "    </tr>\n",
       "    <tr>\n",
       "      <th>...</th>\n",
       "      <td>...</td>\n",
       "      <td>...</td>\n",
       "    </tr>\n",
       "    <tr>\n",
       "      <th>17444</th>\n",
       "      <td>2940.04</td>\n",
       "      <td>21.778074</td>\n",
       "    </tr>\n",
       "    <tr>\n",
       "      <th>17508</th>\n",
       "      <td>387.31</td>\n",
       "      <td>17.605000</td>\n",
       "    </tr>\n",
       "    <tr>\n",
       "      <th>17828</th>\n",
       "      <td>1820.09</td>\n",
       "      <td>27.165522</td>\n",
       "    </tr>\n",
       "    <tr>\n",
       "      <th>17829</th>\n",
       "      <td>889.24</td>\n",
       "      <td>29.641333</td>\n",
       "    </tr>\n",
       "    <tr>\n",
       "      <th>17844</th>\n",
       "      <td>51.56</td>\n",
       "      <td>10.312000</td>\n",
       "    </tr>\n",
       "  </tbody>\n",
       "</table>\n",
       "<p>414 rows × 2 columns</p>\n",
       "</div>"
      ],
      "text/plain": [
       "            total_sales  avg_product_value\n",
       "CustomerID                                \n",
       "12347           4310.00          23.681319\n",
       "12348           1797.24          57.975484\n",
       "12349           1757.55          24.076027\n",
       "12350            334.40          19.670588\n",
       "12352           2506.04          29.482824\n",
       "...                 ...                ...\n",
       "17444           2940.04          21.778074\n",
       "17508            387.31          17.605000\n",
       "17828           1820.09          27.165522\n",
       "17829            889.24          29.641333\n",
       "17844             51.56          10.312000\n",
       "\n",
       "[414 rows x 2 columns]"
      ]
     },
     "execution_count": 38,
     "metadata": {},
     "output_type": "execute_result"
    }
   ],
   "source": [
    "c"
   ]
  },
  {
   "cell_type": "markdown",
   "metadata": {},
   "source": [
    "    "
   ]
  },
  {
   "cell_type": "markdown",
   "metadata": {},
   "source": [
    "    "
   ]
  },
  {
   "cell_type": "markdown",
   "metadata": {},
   "source": [
    "#### We won't always be able to easily roll up to customer-level directly... Sometimes, it is easier to create intermediary levels first.\n"
   ]
  },
  {
   "cell_type": "markdown",
   "metadata": {},
   "source": [
    "For example, say we wanted to calculate the average cart value for each customer. We would first aggregate cart data at the \"cart-level.\"\n",
    "\n",
    "We'll group by 'CustomerID' AND by 'InvoiceID'. Remember, we're treating each invoice as a \"cart.\"\n",
    "Then, we'll calculate 'cart_value' by taking the sum of the Sales column. This is the total sales by invoice (i.e. cart).\n"
   ]
  },
  {
   "cell_type": "code",
   "execution_count": 41,
   "metadata": {},
   "outputs": [
    {
     "data": {
      "text/html": [
       "<div>\n",
       "<style scoped>\n",
       "    .dataframe tbody tr th:only-of-type {\n",
       "        vertical-align: middle;\n",
       "    }\n",
       "\n",
       "    .dataframe tbody tr th {\n",
       "        vertical-align: top;\n",
       "    }\n",
       "\n",
       "    .dataframe thead th {\n",
       "        text-align: right;\n",
       "    }\n",
       "</style>\n",
       "<table border=\"1\" class=\"dataframe\">\n",
       "  <thead>\n",
       "    <tr style=\"text-align: right;\">\n",
       "      <th></th>\n",
       "      <th></th>\n",
       "      <th>cart_value</th>\n",
       "    </tr>\n",
       "    <tr>\n",
       "      <th>CustomerID</th>\n",
       "      <th>InvoiceNo</th>\n",
       "      <th></th>\n",
       "    </tr>\n",
       "  </thead>\n",
       "  <tbody>\n",
       "    <tr>\n",
       "      <th rowspan=\"5\" valign=\"top\">12347</th>\n",
       "      <th>537626</th>\n",
       "      <td>711.79</td>\n",
       "    </tr>\n",
       "    <tr>\n",
       "      <th>542237</th>\n",
       "      <td>475.39</td>\n",
       "    </tr>\n",
       "    <tr>\n",
       "      <th>549222</th>\n",
       "      <td>636.25</td>\n",
       "    </tr>\n",
       "    <tr>\n",
       "      <th>556201</th>\n",
       "      <td>382.52</td>\n",
       "    </tr>\n",
       "    <tr>\n",
       "      <th>562032</th>\n",
       "      <td>584.91</td>\n",
       "    </tr>\n",
       "    <tr>\n",
       "      <th>...</th>\n",
       "      <th>...</th>\n",
       "      <td>...</td>\n",
       "    </tr>\n",
       "    <tr>\n",
       "      <th rowspan=\"3\" valign=\"top\">17828</th>\n",
       "      <th>557668</th>\n",
       "      <td>30.00</td>\n",
       "    </tr>\n",
       "    <tr>\n",
       "      <th>563936</th>\n",
       "      <td>213.50</td>\n",
       "    </tr>\n",
       "    <tr>\n",
       "      <th>576897</th>\n",
       "      <td>743.43</td>\n",
       "    </tr>\n",
       "    <tr>\n",
       "      <th>17829</th>\n",
       "      <th>543911</th>\n",
       "      <td>889.24</td>\n",
       "    </tr>\n",
       "    <tr>\n",
       "      <th>17844</th>\n",
       "      <th>564428</th>\n",
       "      <td>51.56</td>\n",
       "    </tr>\n",
       "  </tbody>\n",
       "</table>\n",
       "<p>1536 rows × 1 columns</p>\n",
       "</div>"
      ],
      "text/plain": [
       "                      cart_value\n",
       "CustomerID InvoiceNo            \n",
       "12347      537626         711.79\n",
       "           542237         475.39\n",
       "           549222         636.25\n",
       "           556201         382.52\n",
       "           562032         584.91\n",
       "...                          ...\n",
       "17828      557668          30.00\n",
       "           563936         213.50\n",
       "           576897         743.43\n",
       "17829      543911         889.24\n",
       "17844      564428          51.56\n",
       "\n",
       "[1536 rows x 1 columns]"
      ]
     },
     "execution_count": 41,
     "metadata": {},
     "output_type": "execute_result"
    }
   ],
   "source": [
    "# Aggregate cart-level data (i.e. invoice-level)\n",
    "cart = clean_df.groupby(['CustomerID' , 'InvoiceNo']).Sales.agg(['sum'])\n",
    "cart.columns = ['cart_value']\n",
    "cart"
   ]
  },
  {
   "cell_type": "markdown",
   "metadata": {},
   "source": [
    "    "
   ]
  },
  {
   "cell_type": "markdown",
   "metadata": {},
   "source": [
    "**D.** Finally, we will aggregate cart data by customer, and engineer 3 new features:\n",
    "\n",
    "<code style=\"color:steelblue\">'avg_cart_value'</code> - average cart value by customer.\n",
    "\n",
    "<code style=\"color:steelblue\">'min_cart_value'</code> - minimum cart value by customer.\n",
    "\n",
    "<code style=\"color:steelblue\">'max_cart_value'</code> - maximum cart value by customer.\n"
   ]
  },
  {
   "cell_type": "markdown",
   "metadata": {},
   "source": [
    "    "
   ]
  },
  {
   "cell_type": "code",
   "execution_count": 42,
   "metadata": {},
   "outputs": [],
   "source": [
    "d = cart.groupby('CustomerID').cart_value.agg(['mean', 'min', 'max'])"
   ]
  },
  {
   "cell_type": "code",
   "execution_count": 43,
   "metadata": {},
   "outputs": [],
   "source": [
    "d.columns = ['avg_cart_value','min_cart_value','max_cart_value']"
   ]
  },
  {
   "cell_type": "code",
   "execution_count": 44,
   "metadata": {},
   "outputs": [
    {
     "data": {
      "text/html": [
       "<div>\n",
       "<style scoped>\n",
       "    .dataframe tbody tr th:only-of-type {\n",
       "        vertical-align: middle;\n",
       "    }\n",
       "\n",
       "    .dataframe tbody tr th {\n",
       "        vertical-align: top;\n",
       "    }\n",
       "\n",
       "    .dataframe thead th {\n",
       "        text-align: right;\n",
       "    }\n",
       "</style>\n",
       "<table border=\"1\" class=\"dataframe\">\n",
       "  <thead>\n",
       "    <tr style=\"text-align: right;\">\n",
       "      <th></th>\n",
       "      <th>avg_cart_value</th>\n",
       "      <th>min_cart_value</th>\n",
       "      <th>max_cart_value</th>\n",
       "    </tr>\n",
       "    <tr>\n",
       "      <th>CustomerID</th>\n",
       "      <th></th>\n",
       "      <th></th>\n",
       "      <th></th>\n",
       "    </tr>\n",
       "  </thead>\n",
       "  <tbody>\n",
       "    <tr>\n",
       "      <th>12347</th>\n",
       "      <td>615.714286</td>\n",
       "      <td>224.82</td>\n",
       "      <td>1294.32</td>\n",
       "    </tr>\n",
       "    <tr>\n",
       "      <th>12348</th>\n",
       "      <td>449.310000</td>\n",
       "      <td>227.44</td>\n",
       "      <td>892.80</td>\n",
       "    </tr>\n",
       "    <tr>\n",
       "      <th>12349</th>\n",
       "      <td>1757.550000</td>\n",
       "      <td>1757.55</td>\n",
       "      <td>1757.55</td>\n",
       "    </tr>\n",
       "    <tr>\n",
       "      <th>12350</th>\n",
       "      <td>334.400000</td>\n",
       "      <td>334.40</td>\n",
       "      <td>334.40</td>\n",
       "    </tr>\n",
       "    <tr>\n",
       "      <th>12352</th>\n",
       "      <td>313.255000</td>\n",
       "      <td>120.33</td>\n",
       "      <td>840.30</td>\n",
       "    </tr>\n",
       "    <tr>\n",
       "      <th>...</th>\n",
       "      <td>...</td>\n",
       "      <td>...</td>\n",
       "      <td>...</td>\n",
       "    </tr>\n",
       "    <tr>\n",
       "      <th>17444</th>\n",
       "      <td>980.013333</td>\n",
       "      <td>550.94</td>\n",
       "      <td>1217.64</td>\n",
       "    </tr>\n",
       "    <tr>\n",
       "      <th>17508</th>\n",
       "      <td>387.310000</td>\n",
       "      <td>387.31</td>\n",
       "      <td>387.31</td>\n",
       "    </tr>\n",
       "    <tr>\n",
       "      <th>17828</th>\n",
       "      <td>455.022500</td>\n",
       "      <td>30.00</td>\n",
       "      <td>833.16</td>\n",
       "    </tr>\n",
       "    <tr>\n",
       "      <th>17829</th>\n",
       "      <td>889.240000</td>\n",
       "      <td>889.24</td>\n",
       "      <td>889.24</td>\n",
       "    </tr>\n",
       "    <tr>\n",
       "      <th>17844</th>\n",
       "      <td>51.560000</td>\n",
       "      <td>51.56</td>\n",
       "      <td>51.56</td>\n",
       "    </tr>\n",
       "  </tbody>\n",
       "</table>\n",
       "<p>414 rows × 3 columns</p>\n",
       "</div>"
      ],
      "text/plain": [
       "            avg_cart_value  min_cart_value  max_cart_value\n",
       "CustomerID                                                \n",
       "12347           615.714286          224.82         1294.32\n",
       "12348           449.310000          227.44          892.80\n",
       "12349          1757.550000         1757.55         1757.55\n",
       "12350           334.400000          334.40          334.40\n",
       "12352           313.255000          120.33          840.30\n",
       "...                    ...             ...             ...\n",
       "17444           980.013333          550.94         1217.64\n",
       "17508           387.310000          387.31          387.31\n",
       "17828           455.022500           30.00          833.16\n",
       "17829           889.240000          889.24          889.24\n",
       "17844            51.560000           51.56           51.56\n",
       "\n",
       "[414 rows x 3 columns]"
      ]
     },
     "execution_count": 44,
     "metadata": {},
     "output_type": "execute_result"
    }
   ],
   "source": [
    "d"
   ]
  },
  {
   "cell_type": "markdown",
   "metadata": {},
   "source": [
    "    "
   ]
  },
  {
   "cell_type": "markdown",
   "metadata": {},
   "source": [
    "    "
   ]
  },
  {
   "cell_type": "markdown",
   "metadata": {},
   "source": [
    "    "
   ]
  },
  {
   "cell_type": "markdown",
   "metadata": {},
   "source": [
    "## <span style=\"color:RoyalBlue\">Merging/Joining</span>\n",
    "\n",
    "Great, now we have multiple dataframes that each contain customer-level features.\n",
    "* <code style=\"color:crimson\">a:</code> total_transactions\n",
    "* <code style=\"color:crimson\">b:</code>total_products and total_Unique_Products\n",
    "* <code style=\"color:crimson\">c:</code>total_sales, avg_product_value\n",
    "* <code style=\"color:crimson\">d:</code> avg_cart_value, min_cart_value, and max_cart_value\n",
    "\n",
    "Next, all we need to do is **join / merge** them all together.\n",
    "\n",
    "* Just pick one of the customer-level dataframes and join it to a list of the others.\n",
    "* By default, it will join the dataframes on their <code style=\"color:steelblue\">index</code>. In this case, it will join by <code style=\"color:steelblue\">CustomerID.</code>"
   ]
  },
  {
   "cell_type": "code",
   "execution_count": 46,
   "metadata": {},
   "outputs": [
    {
     "data": {
      "text/html": [
       "<div>\n",
       "<style scoped>\n",
       "    .dataframe tbody tr th:only-of-type {\n",
       "        vertical-align: middle;\n",
       "    }\n",
       "\n",
       "    .dataframe tbody tr th {\n",
       "        vertical-align: top;\n",
       "    }\n",
       "\n",
       "    .dataframe thead th {\n",
       "        text-align: right;\n",
       "    }\n",
       "</style>\n",
       "<table border=\"1\" class=\"dataframe\">\n",
       "  <thead>\n",
       "    <tr style=\"text-align: right;\">\n",
       "      <th></th>\n",
       "      <th>total_transactions</th>\n",
       "      <th>total_products</th>\n",
       "      <th>total_unique_products</th>\n",
       "      <th>total_sales</th>\n",
       "      <th>avg_product_value</th>\n",
       "      <th>avg_cart_value</th>\n",
       "      <th>min_cart_value</th>\n",
       "      <th>max_cart_value</th>\n",
       "    </tr>\n",
       "    <tr>\n",
       "      <th>CustomerID</th>\n",
       "      <th></th>\n",
       "      <th></th>\n",
       "      <th></th>\n",
       "      <th></th>\n",
       "      <th></th>\n",
       "      <th></th>\n",
       "      <th></th>\n",
       "      <th></th>\n",
       "    </tr>\n",
       "  </thead>\n",
       "  <tbody>\n",
       "    <tr>\n",
       "      <th>12347</th>\n",
       "      <td>7</td>\n",
       "      <td>182</td>\n",
       "      <td>103</td>\n",
       "      <td>4310.00</td>\n",
       "      <td>23.681319</td>\n",
       "      <td>615.714286</td>\n",
       "      <td>224.82</td>\n",
       "      <td>1294.32</td>\n",
       "    </tr>\n",
       "    <tr>\n",
       "      <th>12348</th>\n",
       "      <td>4</td>\n",
       "      <td>31</td>\n",
       "      <td>22</td>\n",
       "      <td>1797.24</td>\n",
       "      <td>57.975484</td>\n",
       "      <td>449.310000</td>\n",
       "      <td>227.44</td>\n",
       "      <td>892.80</td>\n",
       "    </tr>\n",
       "    <tr>\n",
       "      <th>12349</th>\n",
       "      <td>1</td>\n",
       "      <td>73</td>\n",
       "      <td>73</td>\n",
       "      <td>1757.55</td>\n",
       "      <td>24.076027</td>\n",
       "      <td>1757.550000</td>\n",
       "      <td>1757.55</td>\n",
       "      <td>1757.55</td>\n",
       "    </tr>\n",
       "    <tr>\n",
       "      <th>12350</th>\n",
       "      <td>1</td>\n",
       "      <td>17</td>\n",
       "      <td>17</td>\n",
       "      <td>334.40</td>\n",
       "      <td>19.670588</td>\n",
       "      <td>334.400000</td>\n",
       "      <td>334.40</td>\n",
       "      <td>334.40</td>\n",
       "    </tr>\n",
       "    <tr>\n",
       "      <th>12352</th>\n",
       "      <td>8</td>\n",
       "      <td>85</td>\n",
       "      <td>59</td>\n",
       "      <td>2506.04</td>\n",
       "      <td>29.482824</td>\n",
       "      <td>313.255000</td>\n",
       "      <td>120.33</td>\n",
       "      <td>840.30</td>\n",
       "    </tr>\n",
       "    <tr>\n",
       "      <th>...</th>\n",
       "      <td>...</td>\n",
       "      <td>...</td>\n",
       "      <td>...</td>\n",
       "      <td>...</td>\n",
       "      <td>...</td>\n",
       "      <td>...</td>\n",
       "      <td>...</td>\n",
       "      <td>...</td>\n",
       "    </tr>\n",
       "    <tr>\n",
       "      <th>17444</th>\n",
       "      <td>3</td>\n",
       "      <td>135</td>\n",
       "      <td>132</td>\n",
       "      <td>2940.04</td>\n",
       "      <td>21.778074</td>\n",
       "      <td>980.013333</td>\n",
       "      <td>550.94</td>\n",
       "      <td>1217.64</td>\n",
       "    </tr>\n",
       "    <tr>\n",
       "      <th>17508</th>\n",
       "      <td>1</td>\n",
       "      <td>22</td>\n",
       "      <td>22</td>\n",
       "      <td>387.31</td>\n",
       "      <td>17.605000</td>\n",
       "      <td>387.310000</td>\n",
       "      <td>387.31</td>\n",
       "      <td>387.31</td>\n",
       "    </tr>\n",
       "    <tr>\n",
       "      <th>17828</th>\n",
       "      <td>4</td>\n",
       "      <td>67</td>\n",
       "      <td>54</td>\n",
       "      <td>1820.09</td>\n",
       "      <td>27.165522</td>\n",
       "      <td>455.022500</td>\n",
       "      <td>30.00</td>\n",
       "      <td>833.16</td>\n",
       "    </tr>\n",
       "    <tr>\n",
       "      <th>17829</th>\n",
       "      <td>1</td>\n",
       "      <td>30</td>\n",
       "      <td>30</td>\n",
       "      <td>889.24</td>\n",
       "      <td>29.641333</td>\n",
       "      <td>889.240000</td>\n",
       "      <td>889.24</td>\n",
       "      <td>889.24</td>\n",
       "    </tr>\n",
       "    <tr>\n",
       "      <th>17844</th>\n",
       "      <td>1</td>\n",
       "      <td>5</td>\n",
       "      <td>5</td>\n",
       "      <td>51.56</td>\n",
       "      <td>10.312000</td>\n",
       "      <td>51.560000</td>\n",
       "      <td>51.56</td>\n",
       "      <td>51.56</td>\n",
       "    </tr>\n",
       "  </tbody>\n",
       "</table>\n",
       "<p>414 rows × 8 columns</p>\n",
       "</div>"
      ],
      "text/plain": [
       "            total_transactions  total_products  total_unique_products  \\\n",
       "CustomerID                                                              \n",
       "12347                        7             182                    103   \n",
       "12348                        4              31                     22   \n",
       "12349                        1              73                     73   \n",
       "12350                        1              17                     17   \n",
       "12352                        8              85                     59   \n",
       "...                        ...             ...                    ...   \n",
       "17444                        3             135                    132   \n",
       "17508                        1              22                     22   \n",
       "17828                        4              67                     54   \n",
       "17829                        1              30                     30   \n",
       "17844                        1               5                      5   \n",
       "\n",
       "            total_sales  avg_product_value  avg_cart_value  min_cart_value  \\\n",
       "CustomerID                                                                   \n",
       "12347           4310.00          23.681319      615.714286          224.82   \n",
       "12348           1797.24          57.975484      449.310000          227.44   \n",
       "12349           1757.55          24.076027     1757.550000         1757.55   \n",
       "12350            334.40          19.670588      334.400000          334.40   \n",
       "12352           2506.04          29.482824      313.255000          120.33   \n",
       "...                 ...                ...             ...             ...   \n",
       "17444           2940.04          21.778074      980.013333          550.94   \n",
       "17508            387.31          17.605000      387.310000          387.31   \n",
       "17828           1820.09          27.165522      455.022500           30.00   \n",
       "17829            889.24          29.641333      889.240000          889.24   \n",
       "17844             51.56          10.312000       51.560000           51.56   \n",
       "\n",
       "            max_cart_value  \n",
       "CustomerID                  \n",
       "12347              1294.32  \n",
       "12348               892.80  \n",
       "12349              1757.55  \n",
       "12350               334.40  \n",
       "12352               840.30  \n",
       "...                    ...  \n",
       "17444              1217.64  \n",
       "17508               387.31  \n",
       "17828               833.16  \n",
       "17829               889.24  \n",
       "17844                51.56  \n",
       "\n",
       "[414 rows x 8 columns]"
      ]
     },
     "execution_count": 46,
     "metadata": {},
     "output_type": "execute_result"
    }
   ],
   "source": [
    "customer_df = a.join([b,c,d])\n",
    "customer_df"
   ]
  },
  {
   "cell_type": "markdown",
   "metadata": {},
   "source": [
    "    "
   ]
  },
  {
   "cell_type": "markdown",
   "metadata": {},
   "source": [
    "    "
   ]
  },
  {
   "cell_type": "markdown",
   "metadata": {},
   "source": [
    "Finally, let's save <code style=\"color:crimson\">customer_df</code> as our base table for further analysis.\n",
    "\n",
    "\n",
    "* Save the file as <code style=\"color:crimson\">'analytical_base_table.csv'</code>"
   ]
  },
  {
   "cell_type": "code",
   "execution_count": 143,
   "metadata": {},
   "outputs": [],
   "source": [
    "customer_df.to_csv('analytical_base_table.csv')"
   ]
  }
 ],
 "metadata": {
  "anaconda-cloud": {},
  "kernelspec": {
   "display_name": "Python 3",
   "language": "python",
   "name": "python3"
  },
  "language_info": {
   "codemirror_mode": {
    "name": "ipython",
    "version": 3
   },
   "file_extension": ".py",
   "mimetype": "text/x-python",
   "name": "python",
   "nbconvert_exporter": "python",
   "pygments_lexer": "ipython3",
   "version": "3.7.6"
  }
 },
 "nbformat": 4,
 "nbformat_minor": 1
}
